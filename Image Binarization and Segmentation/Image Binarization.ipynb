{
 "cells": [
  {
   "cell_type": "code",
   "execution_count": 135,
   "metadata": {},
   "outputs": [],
   "source": [
    "import cv2\n",
    "import matplotlib.pyplot as plt\n",
    "%matplotlib inline\n",
    "import numpy as np\n",
    "from skimage.filters import threshold_niblack, threshold_sauvola\n",
    "from mahotas.thresholding import bernsen,rc"
   ]
  },
  {
   "cell_type": "code",
   "execution_count": 136,
   "metadata": {},
   "outputs": [],
   "source": [
    "path = \"/home/mayank/DIP Mini Project/DIPCO2016_dataset/\"  # Original Images\n",
    "path_gt = \"/home/mayank/DIP Mini Project/DIPCO2016_Dataset_GT/\"  # Ground Truth Images"
   ]
  },
  {
   "cell_type": "code",
   "execution_count": 137,
   "metadata": {},
   "outputs": [],
   "source": [
    "# Loading images\n",
    "def import_image(loc1):\n",
    "    return(np.array(cv2.imread(loc1, 0)))\n",
    "\n",
    "# Calculating Pixel Frequency \n",
    "def create_hist(img):\n",
    "    hist = {}\n",
    "    for i in range(0, len(img)):\n",
    "        for j in range(0, len(img[i])):\n",
    "            if img[i][j] in hist.keys():\n",
    "                hist[img[i][j]] += 1\n",
    "            else:\n",
    "                hist[img[i][j]] = 1\n",
    "    return hist\n",
    "\n",
    "# Tranforming Ground Truth image into True and False\n",
    "def bin_gt(img):\n",
    "    for i in range(len(img)):\n",
    "        for j in range(len(img[i])):\n",
    "            if img[i][j] == 0:\n",
    "                img[i][j] = False\n",
    "            else:\n",
    "                img[i][j] = True\n",
    "    return img"
   ]
  },
  {
   "cell_type": "code",
   "execution_count": 138,
   "metadata": {},
   "outputs": [],
   "source": [
    "org_img = import_image(path + \"1.bmp\")\n",
    "gt_img = import_image(path_gt + \"1_gt.bmp\")\n",
    "img_hist = create_hist(org_img)\n",
    "gt_img = bin_gt(gt_img)\n",
    "n_pixels = org_img.shape[0]*org_img.shape[1]"
   ]
  },
  {
   "cell_type": "markdown",
   "metadata": {},
   "source": [
    "# Algorithm 1 - OTSU"
   ]
  },
  {
   "cell_type": "code",
   "execution_count": 139,
   "metadata": {},
   "outputs": [
    {
     "data": {
      "image/png": "[encoded data removed]",
      "text/plain": [
       "<Figure size 432x288 with 1 Axes>"
      ]
     },
     "metadata": {},
     "output_type": "display_data"
    },
    {
     "name": "stdout",
     "output_type": "stream",
     "text": [
      "[[1491073, 7657], [7642, 104798]]\n",
      "0.9319105419945756 0.9320348630380647 0.9319726983703506\n"
     ]
    }
   ],
   "source": [
    "master_list = []\n",
    "\n",
    "for i in range(len(set(org_img.ravel())) - 1):\n",
    "\n",
    "    T = i\n",
    "\n",
    "    weight_back_num = 0\n",
    "    weight_fore_num = 0\n",
    "    mean_back_num = 0\n",
    "    mean_fore_num = 0\n",
    "    wb = 0\n",
    "    wf = 0\n",
    "    mb = 0\n",
    "    mf = 0\n",
    "    vb = 0\n",
    "    vf = 0\n",
    "\n",
    "    j = 0\n",
    "\n",
    "    for k in img_hist.keys():\n",
    "        if j > T:\n",
    "            weight_fore_num += img_hist[k]\n",
    "            mean_fore_num += k * img_hist[k]\n",
    "            j += 1\n",
    "        else:\n",
    "            weight_back_num += img_hist[k]\n",
    "            mean_back_num += k * img_hist[k]\n",
    "            j += 1\n",
    "\n",
    "    wb = weight_back_num / n_pixels\n",
    "    mb = mean_back_num / weight_back_num\n",
    "\n",
    "    t = 0\n",
    "\n",
    "    wf = 1 - wb\n",
    "    mf = mean_fore_num / weight_fore_num\n",
    "\n",
    "    for k in img_hist.keys():\n",
    "        if t > T:\n",
    "            vf += ((k - mf) ** 2) * img_hist[k]\n",
    "            t += 1\n",
    "        else:\n",
    "            vb += ((k - mb) ** 2) * img_hist[k]\n",
    "            t += 1\n",
    "    # print(vf)\n",
    "    vb /= weight_back_num\n",
    "    vf /= weight_fore_num\n",
    "    \n",
    "    within_class_variance = wb * vb + wf * vf\n",
    "\n",
    "    master_list.append(\n",
    "        {'i': i, 'wbn': weight_back_num, 'wb': wb, 'mbn': mean_back_num, 'mb': mb, 'vb': vb,\n",
    "         'wfn': weight_fore_num, 'wf': wf, 'mfn': mean_fore_num, 'mf': mf, 'vf': vf,\n",
    "         'within': within_class_variance})\n",
    "\n",
    "min = 1000000\n",
    "index = 0\n",
    "for k in master_list:\n",
    "    if k['within'] < min:\n",
    "        min = k['within']\n",
    "        index = k['i']\n",
    "\n",
    "im1 = org_img > index\n",
    "\n",
    "plt.imshow(im1, cmap='gray')\n",
    "plt.title('OTSU')\n",
    "plt.show()\n",
    "\n",
    "# Calculating Accuracy\n",
    "tp = 0\n",
    "tn = 0\n",
    "fp = 0\n",
    "fn = 0\n",
    "for x, y in zip(gt_img, im1):\n",
    "    for i, j in zip(x, y):\n",
    "        if i == False and j == False:\n",
    "            tp += 1\n",
    "        elif i == True and j == False:\n",
    "            fp += 1\n",
    "        elif i == False and j == True:\n",
    "            fn += 1\n",
    "        else:\n",
    "            tn += 1\n",
    "\n",
    "cm_otsu = [[tn, fp], [fn, tp]]\n",
    "precision_otsu = tp / (tp + fp)\n",
    "recall_otsu = tp / (tp + fn)\n",
    "f_otsu = 2*(precision_otsu*recall_otsu)/(precision_otsu+recall_otsu)\n",
    "print(cm_otsu)\n",
    "print(precision_otsu, recall_otsu, f_otsu)"
   ]
  },
  {
   "cell_type": "markdown",
   "metadata": {},
   "source": [
    "# Algorithm 2 - OTSU with Gaussian Filtering"
   ]
  },
  {
   "cell_type": "code",
   "execution_count": 140,
   "metadata": {},
   "outputs": [
    {
     "data": {
      "image/png": "[encoded data removed]",
      "text/plain": [
       "<Figure size 432x288 with 1 Axes>"
      ]
     },
     "metadata": {},
     "output_type": "display_data"
    },
    {
     "name": "stdout",
     "output_type": "stream",
     "text": [
      "0.8954677992954779 0.9450195659907507 0.9195766371558879\n"
     ]
    }
   ],
   "source": [
    "blur = cv2.GaussianBlur(org_img,(5,5),0)\n",
    "ret3,binary_otsu_gauss = cv2.threshold(blur,0,255,cv2.THRESH_BINARY+cv2.THRESH_OTSU)\n",
    "plt.imshow(binary_otsu_gauss, cmap='gray')\n",
    "plt.title(\"Otsu's thresholding after Gaussian filtering\")\n",
    "plt.show()\n",
    "\n",
    "for i in range(len(binary_otsu_gauss)):\n",
    "    for j in range(len(binary_otsu_gauss[i])):\n",
    "        if binary_otsu_gauss[i][j] == 0:\n",
    "            binary_otsu_gauss[i][j] = False\n",
    "        else:\n",
    "            binary_otsu_gauss[i][j] = True\n",
    "\n",
    "# Calculating Accuracy\n",
    "\n",
    "tp = 0\n",
    "tn = 0\n",
    "fp = 0\n",
    "fn = 0\n",
    "for x, y in zip(gt_img, binary_otsu_gauss):\n",
    "    for i, j in zip(x, y):\n",
    "        if i == False and j == False:\n",
    "            tp += 1\n",
    "        elif i == True and j == False:\n",
    "            fp += 1\n",
    "        elif i == False and j == True:\n",
    "            fn += 1\n",
    "        else:\n",
    "            tn += 1\n",
    "\n",
    "cm_otsu_gauss = [[tn, fp], [fn, tp]]\n",
    "precision_otsu_gauss = tp / (tp + fp)\n",
    "recall_otsu_gauss = tp / (tp + fn)\n",
    "f_otsu_gauss = 2*(precision_otsu_gauss*recall_otsu_gauss)/(precision_otsu_gauss+recall_otsu_gauss)\n",
    "print(precision_otsu_gauss, recall_otsu_gauss, f_otsu_gauss)"
   ]
  },
  {
   "cell_type": "markdown",
   "metadata": {},
   "source": [
    "# Algorithm 3 - Bernsen"
   ]
  },
  {
   "cell_type": "code",
   "execution_count": 141,
   "metadata": {},
   "outputs": [
    {
     "data": {
      "image/png": "[encoded data removed]",
      "text/plain": [
       "<Figure size 432x288 with 1 Axes>"
      ]
     },
     "metadata": {},
     "output_type": "display_data"
    },
    {
     "name": "stdout",
     "output_type": "stream",
     "text": [
      "[[1498654, 76], [55333, 57107]]\n",
      "0.9986709336690974 0.5078886517253647 0.6733402899370958\n"
     ]
    }
   ],
   "source": [
    "thresh_bernsen = bernsen(org_img, 25, 114)\n",
    "binary_bernsen = org_img > thresh_bernsen\n",
    "plt.imshow(binary_bernsen, cmap='gray')\n",
    "plt.title('BERNSEN')\n",
    "plt.show()\n",
    "\n",
    "# Calculating Accuracy\n",
    "\n",
    "tp = 0\n",
    "tn = 0\n",
    "fp = 0\n",
    "fn = 0\n",
    "for x, y in zip(gt_img, binary_bernsen):\n",
    "    for i, j in zip(x, y):\n",
    "        if i == False and j == False:\n",
    "            tp += 1\n",
    "        elif i == True and j == False:\n",
    "            fp += 1\n",
    "        elif i == False and j == True:\n",
    "            fn += 1\n",
    "        else:\n",
    "            tn += 1\n",
    "\n",
    "cm_bernsen = [[tn, fp], [fn, tp]]\n",
    "precision_bernsen = tp / (tp + fp)\n",
    "recall_bernsen = tp / (tp + fn)\n",
    "f_bernsen = 2*(precision_bernsen*recall_bernsen)/(precision_bernsen+recall_bernsen)\n",
    "print(cm_bernsen)\n",
    "print(precision_bernsen, recall_bernsen, f_bernsen)"
   ]
  },
  {
   "cell_type": "markdown",
   "metadata": {},
   "source": [
    "# Algorithm 4 - Sauvola"
   ]
  },
  {
   "cell_type": "code",
   "execution_count": 142,
   "metadata": {},
   "outputs": [
    {
     "data": {
      "image/png": "[encoded data removed]",
      "text/plain": [
       "<Figure size 432x288 with 1 Axes>"
      ]
     },
     "metadata": {},
     "output_type": "display_data"
    },
    {
     "name": "stdout",
     "output_type": "stream",
     "text": [
      "[[1487885, 10845], [8585, 103855]]\n",
      "0.9054489973844813 0.9236481679117752 0.9144580434974025\n"
     ]
    }
   ],
   "source": [
    "window_size = 25\n",
    "thresh_sauvola = threshold_sauvola(org_img, window_size=window_size)\n",
    "binary_sauvola = org_img > thresh_sauvola\n",
    "plt.imshow(binary_sauvola, cmap='gray')\n",
    "plt.title('SAUVOLA')\n",
    "plt.show()\n",
    "\n",
    "# Calculating Accuracy\n",
    "\n",
    "tp = 0\n",
    "tn = 0\n",
    "fp = 0\n",
    "fn = 0\n",
    "for x, y in zip(gt_img, binary_sauvola):\n",
    "    for i, j in zip(x, y):\n",
    "        if i == False and j == False:\n",
    "            tp += 1\n",
    "        elif i == True and j == False:\n",
    "            fp += 1\n",
    "        elif i == False and j == True:\n",
    "            fn += 1\n",
    "        else:\n",
    "            tn += 1\n",
    "\n",
    "cm_sauvola = [[tn, fp], [fn, tp]]\n",
    "precision_sauvola = tp / (tp + fp)\n",
    "recall_sauvola = tp / (tp + fn)\n",
    "f_sauvola = 2*(precision_sauvola*recall_sauvola)/(precision_sauvola+recall_sauvola)\n",
    "print(cm_sauvola)\n",
    "print(precision_sauvola, recall_sauvola, f_sauvola)\n"
   ]
  },
  {
   "cell_type": "markdown",
   "metadata": {},
   "source": [
    "# Algorithm 5 - NiBlack"
   ]
  },
  {
   "cell_type": "code",
   "execution_count": 143,
   "metadata": {},
   "outputs": [
    {
     "data": {
      "image/png": "[encoded data removed]",
      "text/plain": [
       "<Figure size 432x288 with 1 Axes>"
      ]
     },
     "metadata": {},
     "output_type": "display_data"
    },
    {
     "name": "stdout",
     "output_type": "stream",
     "text": [
      "[[1319835, 178895], [41935, 70505]]\n",
      "0.28269847634322376 0.627045535396656 0.3897026309971258\n"
     ]
    }
   ],
   "source": [
    "window_size = 25\n",
    "thresh_niblack = threshold_niblack(org_img, window_size=window_size, k=0.8)\n",
    "binary_niblack = org_img > thresh_niblack\n",
    "plt.imshow(binary_niblack, cmap='gray')\n",
    "plt.title('NIBLACK')\n",
    "plt.show()\n",
    "\n",
    "# Calculating Accuracy\n",
    "\n",
    "tp = 0\n",
    "tn = 0\n",
    "fp = 0\n",
    "fn = 0\n",
    "for x, y in zip(gt_img, binary_niblack):\n",
    "    for i, j in zip(x, y):\n",
    "        if i == False and j == False:\n",
    "            tp += 1\n",
    "        elif i == True and j == False:\n",
    "            fp += 1\n",
    "        elif i == False and j == True:\n",
    "            fn += 1\n",
    "        else:\n",
    "            tn += 1\n",
    "\n",
    "cm_niblack = [[tn, fp], [fn, tp]]\n",
    "precision_niblack = tp / (tp + fp)\n",
    "recall_niblack = tp / (tp + fn)\n",
    "f_niblack = 2*(precision_niblack*recall_niblack)/(precision_niblack+recall_niblack)\n",
    "print(cm_niblack)\n",
    "print(precision_niblack, recall_niblack, f_niblack)"
   ]
  },
  {
   "cell_type": "markdown",
   "metadata": {},
   "source": [
    "# Algorithm 6 - Ridler-Calvard"
   ]
  },
  {
   "cell_type": "code",
   "execution_count": 144,
   "metadata": {},
   "outputs": [
    {
     "data": {
      "image/png": "[encoded data removed]",
      "text/plain": [
       "<Figure size 432x288 with 1 Axes>"
      ]
     },
     "metadata": {},
     "output_type": "display_data"
    },
    {
     "name": "stdout",
     "output_type": "stream",
     "text": [
      "[[1491073, 7657], [7642, 104798]]\n",
      "0.9319105419945756 0.9320348630380647 0.9319726983703506\n"
     ]
    }
   ],
   "source": [
    "thresh_rc = rc(org_img)\n",
    "binary_rc = (org_img > thresh_rc)\n",
    "plt.imshow(binary_rc, cmap='gray')\n",
    "plt.title(\"Ridler-Calvard\")\n",
    "plt.show()\n",
    "\n",
    "# Calculating Accuracy\n",
    "\n",
    "tp = 0\n",
    "tn = 0\n",
    "fp = 0\n",
    "fn = 0\n",
    "for x, y in zip(gt_img, binary_rc):\n",
    "    for i, j in zip(x, y):\n",
    "        if i == False and j == False:\n",
    "            tp += 1\n",
    "        elif i == True and j == False:\n",
    "            fp += 1\n",
    "        elif i == False and j == True:\n",
    "            fn += 1\n",
    "        else:\n",
    "            tn += 1\n",
    "\n",
    "cm_rc = [[tn, fp], [fn, tp]]\n",
    "precision_rc = tp / (tp + fp)\n",
    "recall_rc = tp / (tp + fn)\n",
    "f_rc = 2*(precision_rc*recall_rc)/(precision_rc+recall_rc)\n",
    "print(cm_rc)\n",
    "print(precision_rc, recall_rc, f_rc) "
   ]
  },
  {
   "cell_type": "markdown",
   "metadata": {},
   "source": [
    "# Algorithm 7 - Adaptive Thresholding Mean"
   ]
  },
  {
   "cell_type": "code",
   "execution_count": 147,
   "metadata": {},
   "outputs": [
    {
     "data": {
      "image/png": "[encoded data removed]",
      "text/plain": [
       "<Figure size 432x288 with 1 Axes>"
      ]
     },
     "metadata": {},
     "output_type": "display_data"
    },
    {
     "name": "stdout",
     "output_type": "stream",
     "text": [
      "[[1498730, 0], [1012, 111428]]\n",
      "1.0 0.9909996442547137 0.9954794789786839\n"
     ]
    }
   ],
   "source": [
    "binary_ada_mean = cv2.adaptiveThreshold(org_img,255,cv2.ADAPTIVE_THRESH_MEAN_C,cv2.THRESH_BINARY,231, 10)\n",
    "plt.imshow(binary_ada_mean, cmap='gray')\n",
    "plt.title(\"Adaptive - Mean\")\n",
    "plt.show()\n",
    "\n",
    "for i in range(len(binary_ada_mean)):\n",
    "    for j in range(len(binary_ada_mean[i])):\n",
    "        if binary_ada_mean[i][j] == 0:\n",
    "            binary_ada_mean[i][j] = False\n",
    "        else:\n",
    "            binary_ada_mean[i][j] = True\n",
    "\n",
    "# Calculating Accuracy\n",
    "\n",
    "tp = 0\n",
    "tn = 0\n",
    "fp = 0\n",
    "fn = 0\n",
    "for x, y in zip(im_cmp, binary_ada_mean):\n",
    "    for i, j in zip(x, y):\n",
    "        if i == False and j == False:\n",
    "            tp += 1\n",
    "        elif i == True and j == False:\n",
    "            fp += 1\n",
    "        elif i == False and j == True:\n",
    "            fn += 1\n",
    "        else:\n",
    "            tn += 1\n",
    "\n",
    "cm_ada = [[tn, fp], [fn, tp]]\n",
    "precision_ada = tp / (tp + fp)\n",
    "recall_ada = tp / (tp + fn)\n",
    "f_ada = 2*(precision_ada*recall_ada)/(precision_ada+recall_ada)\n",
    "print(cm_ada)\n",
    "print(precision_ada, recall_ada, f_ada) "
   ]
  },
  {
   "cell_type": "markdown",
   "metadata": {},
   "source": [
    "# Algorithm 8 - Adaptive Thresholding Guassian"
   ]
  },
  {
   "cell_type": "code",
   "execution_count": null,
   "metadata": {},
   "outputs": [],
   "source": [
    "binary_ada_gauss = cv2.adaptiveThreshold(org_img,255,cv2.ADAPTIVE_THRESH_GAUSSIAN_C,cv2.THRESH_BINARY,11,2)\n",
    "plt.imshow(binary_ada_gauss, cmap='gray')\n",
    "plt.title(\"Adaptive - Gaussian\")\n",
    "plt.show()\n",
    "\n",
    "for i in range(len(binary_ada_gauss)):\n",
    "    for j in range(len(binary_ada_gauss[i])):\n",
    "        if binary_ada_gauss[i][j] == 0:\n",
    "            binary_ada_gauss[i][j] = False\n",
    "        else:\n",
    "            binary_ada_gauss[i][j] = True\n",
    "\n",
    "# Calculating Accuracy\n",
    "\n",
    "tp = 0\n",
    "tn = 0\n",
    "fp = 0\n",
    "fn = 0\n",
    "for x, y in zip(im_cmp, binary_ada_gauss):\n",
    "    for i, j in zip(x, y):\n",
    "        if i == False and j == False:\n",
    "            tp += 1\n",
    "        elif i == True and j == False:\n",
    "            fp += 1\n",
    "        elif i == False and j == True:\n",
    "            fn += 1\n",
    "        else:\n",
    "            tn += 1\n",
    "\n",
    "cm_ada_mean = [[tn, fp], [fn, tp]]\n",
    "\n",
    "precision_ada_gauss = tp / (tp + fp)\n",
    "recall_ada_gauss = tp / (tp + fn)\n",
    "f_ada_gauss = 2*(precision_ada_gauss*recall_ada_gauss)/(precision_ada_gauss+recall_ada_gauss)\n",
    "print(cm_ada_gauss)\n",
    "print(precision_ada_gauss, recall_ada_gauss, f_ada_gauss) "
   ]
  },
  {
   "cell_type": "code",
   "execution_count": null,
   "metadata": {},
   "outputs": [],
   "source": []
  }
 ],
 "metadata": {
  "kernelspec": {
   "display_name": "Python 3",
   "language": "python",
   "name": "python3"
  },
  "language_info": {
   "codemirror_mode": {
    "name": "ipython",
    "version": 3
   },
   "file_extension": ".py",
   "mimetype": "text/x-python",
   "name": "python",
   "nbconvert_exporter": "python",
   "pygments_lexer": "ipython3",
   "version": "3.5.2"
  }
 },
 "nbformat": 4,
 "nbformat_minor": 2
}
